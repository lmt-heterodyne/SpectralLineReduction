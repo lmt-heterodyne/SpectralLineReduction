{
 "cells": [
  {
   "cell_type": "markdown",
   "metadata": {},
   "source": [
    "# BS Example\n",
    "\n",
    "A beam switch (BS) spectrum with SEQUOIA is obtained by switching between two pixels in the array.  Thus, we always have one of the two beams on the source and there is no time lost for observation of a reference.  This results in a square root of two improvement in noise.\n",
    "\n",
    "The BS approach is most appropriate for point sources where the small offset between pixels is sufficient to get a good \"OFF\" measurement.\n",
    "\n",
    "Usually, we track pixel 10 and switch the telescope to pixel 8 for the reference observation.  This allows us to read data from only one of the roach boards to do the reduction of the spectrum. "
   ]
  },
  {
   "cell_type": "markdown",
   "metadata": {},
   "source": [
    "### Necessary Imports"
   ]
  },
  {
   "cell_type": "code",
   "execution_count": 1,
   "metadata": {},
   "outputs": [],
   "source": [
    "# Python Imports\n",
    "import numpy as np\n",
    "import matplotlib.pyplot as pl\n",
    "\n",
    "# Line Data Reduction Imports\n",
    "from lmtslr.spec.spec import *\n",
    "from lmtslr.ifproc.ifproc import *\n",
    "from lmtslr.viewer.spec_viewer import *\n",
    "\n",
    "from lmtslr.reduction.line_reduction import *\n",
    "\n"
   ]
  },
  {
   "cell_type": "markdown",
   "metadata": {},
   "source": [
    "### Setup parameters for the reduction"
   ]
  },
  {
   "cell_type": "code",
   "execution_count": 2,
   "metadata": {},
   "outputs": [],
   "source": [
    "# set all parameters to control the reduction and plot                                                                   \n",
    "\n",
    "data_path = '/Users/schloerb/Desktop/LMT/DataReduction/NewDataReduction/pipeline/example_data/'\n",
    "obsnum = 83057\n",
    "pixel_number = 10\n",
    "\n",
    "# calibration options\n",
    "use_calibration = True\n",
    "tsys = 100.\n",
    "\n",
    "# designate pixels for the BS reduction                                                                                  \n",
    "list_of_pixels = [8,10]\n",
    "bank = 0\n",
    "\n",
    "# baseline options\n",
    "baseline_order = 0\n",
    "plot_limits = [20,60,-10,300]\n",
    "baseline_regions = [[-100,20],[60,200]]\n",
    "line_integral_regions = [[25,55]]\n",
    "\n",
    "\n"
   ]
  },
  {
   "cell_type": "markdown",
   "metadata": {},
   "source": [
    "### Read and reduce the spectrum\n",
    "\n",
    "The `read-obsnum_bs` function follows the procedure of `read_obsnum_ps` used to produce PS spectra with the exception that the role of Main and Reference are reversed for the first pixel in the pixel list.  "
   ]
  },
  {
   "cell_type": "code",
   "execution_count": 3,
   "metadata": {},
   "outputs": [
    {
     "name": "stdout",
     "output_type": "stream",
     "text": [
      "found roach2_83057_0_1_W-Hya_2019-04-26_045336.nc\n",
      "append roach2_83057_0_1_W-Hya_2019-04-26_045336.nc\n",
      "found ifproc_2019-04-26_083057_00_0001.nc\n",
      "before read npix\n",
      "from pixels npix = 16\n",
      "from xlen npix = 16\n",
      "TRACKING Sequoia PIXEL  8\n",
      "/Users/schloerb/Desktop/LMT/DataReduction/NewDataReduction/pipeline/example_data/ifproc/ifproc_2019-04-26_083057_00_0001.nc does not have map parameters\n",
      "83057 is a Bs observation\n",
      "read_roach /Users/schloerb/Desktop/LMT/DataReduction/NewDataReduction/pipeline/example_data/spectrometer/roach2/roach2_83057_0_1_W-Hya_2019-04-26_045336.nc\n",
      "r:2 inp:0 pix:8 to:-0.030000\n",
      "r:2 inp:2 pix:10 to:-0.030000\n",
      "found roach2_83053_0_1_W-Hya_2019-04-26_045111.nc\n",
      "append roach2_83053_0_1_W-Hya_2019-04-26_045111.nc\n",
      "found ifproc_2019-04-26_083053_00_0001.nc\n",
      "before read npix\n",
      "from pixels npix = 16\n",
      "from xlen npix = 16\n",
      "TRACKING Sequoia PIXEL  10\n",
      "/Users/schloerb/Desktop/LMT/DataReduction/NewDataReduction/pipeline/example_data/ifproc/ifproc_2019-04-26_083053_00_0001.nc does not have map parameters\n",
      "/Users/schloerb/Desktop/LMT/DataReduction/NewDataReduction/pipeline/example_data/ifproc/ifproc_2019-04-26_083053_00_0001.nc does not have bs parameters\n",
      "83053 is a Cal observation\n",
      "read_roach /Users/schloerb/Desktop/LMT/DataReduction/NewDataReduction/pipeline/example_data/spectrometer/roach2/roach2_83053_0_1_W-Hya_2019-04-26_045111.nc\n",
      "r:2 inp:0 pix:8 to:-0.030000\n",
      "r:2 inp:2 pix:10 to:-0.030000\n"
     ]
    },
    {
     "name": "stderr",
     "output_type": "stream",
     "text": [
      "/Users/schloerb/anaconda/envs/lmtslr/lib/python3.7/site-packages/numpy/core/fromnumeric.py:745: UserWarning: Warning: 'partition' will ignore the 'mask' of the MaskedArray.\n",
      "  a.partition(kth, axis=axis, kind=kind, order=order)\n",
      "/Users/schloerb/Desktop/LMT/SPECTRALLINE/lmtslr/spec/spec.py:145: RuntimeWarning: invalid value encountered in true_divide\n",
      "  ps_list[i,:] = (self.reference_spectra[i,:]-self.main_spectra[i,:])/self.main_spectra[i,:]\n",
      "/Users/schloerb/Desktop/LMT/SPECTRALLINE/lmtslr/spec/spec.py:142: RuntimeWarning: invalid value encountered in true_divide\n",
      "  ps_list[i,:] = (self.main_spectra[i,:]-self.reference_spectra[i,:])/self.reference_spectra[i,:]\n"
     ]
    }
   ],
   "source": [
    "I, S = read_obsnum_bs(obsnum, list_of_pixels, bank, use_calibration, tsys=tsys, path=data_path)"
   ]
  },
  {
   "cell_type": "markdown",
   "metadata": {},
   "source": [
    "### Create LineData objects for analysis\n",
    "\n",
    "The following code block creates individual `LineData` objects for the spectra on the Main position (pixel 10) and the Reference position (pixel 8).  The individual spectra are plotted."
   ]
  },
  {
   "cell_type": "code",
   "execution_count": 4,
   "metadata": {},
   "outputs": [
    {
     "data": {
      "image/png": "[encoded data removed]",
      "text/plain": [
       "<Figure size 432x288 with 1 Axes>"
      ]
     },
     "metadata": {
      "needs_background": "light"
     },
     "output_type": "display_data"
    },
    {
     "data": {
      "image/png": "[encoded data removed]",
      "text/plain": [
       "<Figure size 432x288 with 1 Axes>"
      ]
     },
     "metadata": {
      "needs_background": "light"
     },
     "output_type": "display_data"
    }
   ],
   "source": [
    "LD_0 = LineData(I,bank,S.nchan,S.bandwidth,S.roach[0].ps_spectrum)\n",
    "LD_1 = LineData(I,bank,S.nchan,S.bandwidth,S.roach[1].ps_spectrum)\n",
    "\n",
    "# select \"V Source\" option since this is a comet spectrum\n",
    "LD_0.x_vlsr()\n",
    "LD_1.x_vlsr()\n",
    "\n",
    "# make a plot of the two spectra\n",
    "pl.figure()\n",
    "pl.plot(LD_0.xarray,LD_0.yarray)\n",
    "pl.axis(plot_limits)\n",
    "pl.xlabel(LD_0.xname)\n",
    "pl.title('%s: Pixel %d Spectrum'%(I.source,list_of_pixels[0]));\n",
    "\n",
    "pl.figure()\n",
    "pl.plot(LD_1.xarray,LD_1.yarray)\n",
    "pl.axis(plot_limits)\n",
    "pl.xlabel(LD_1.xname)\n",
    "pl.title('%s Pixel %d Spectrum'%(I.source,list_of_pixels[1]));\n",
    "\n",
    "\n",
    "\n"
   ]
  },
  {
   "cell_type": "markdown",
   "metadata": {},
   "source": [
    "### Forming the BS Spectrum\n",
    "\n",
    "We can also combine the individual spectra from the reduction to derive the BS result.  We create a single `LineData` object with the result. "
   ]
  },
  {
   "cell_type": "code",
   "execution_count": 5,
   "metadata": {},
   "outputs": [
    {
     "data": {
      "text/plain": [
       "Text(0.5, 1.0, 'W-Hya: BS Spectrum with Pixels 8 and 10')"
      ]
     },
     "execution_count": 5,
     "metadata": {},
     "output_type": "execute_result"
    },
    {
     "data": {
      "image/png": "[encoded data removed]",
      "text/plain": [
       "<Figure size 432x288 with 1 Axes>"
      ]
     },
     "metadata": {
      "needs_background": "light"
     },
     "output_type": "display_data"
    }
   ],
   "source": [
    "# create a LineData object with the BS spectrum\n",
    "BS_LineData = LineData(I,bank,S.nchan,S.bandwidth,(S.roach[0].ps_spectrum + S.roach[1].ps_spectrum)/2.)\n",
    "\n",
    "# plot the combined result\n",
    "pl.plot(BS_LineData.xarray,BS_LineData.yarray)\n",
    "pl.axis(plot_limits)\n",
    "pl.xlabel(BS_LineData.xname)\n",
    "pl.title('%s: BS Spectrum with Pixels %d and %d'%(I.source,list_of_pixels[0],list_of_pixels[1]))\n",
    "\n",
    "\n",
    "\n"
   ]
  },
  {
   "cell_type": "code",
   "execution_count": 6,
   "metadata": {},
   "outputs": [
    {
     "name": "stdout",
     "output_type": "stream",
     "text": [
      "Results for W-Hya 83057\n",
      "YMAX = 272.341210  YINT = 1157.713345  XMEAN = 39.243295  XMAX = [40.32107053]\n",
      "RMS = 0.058172\n"
     ]
    }
   ],
   "source": [
    "# create Line obeject to use spectral line methods\n",
    "BS_Line = BS_LineData.line()\n",
    "\n",
    "# fit baseline\n",
    "blist, nb = BS_Line.xlist(baseline_regions)\n",
    "BS_Line.baseline(blist,nb,baseline_order)\n",
    "\n",
    "# compute \"line\" parameters\n",
    "llist, nl = BS_Line.xlist(line_integral_regions)\n",
    "BS_Line.line_stats(llist,nl)\n",
    "\n",
    "# print the results\n",
    "print('Results for %s %d'%(I.source,I.obsnum))\n",
    "print('YMAX = %f  YINT = %f  XMEAN = %f  XMAX = %s'%(BS_Line.ymax,BS_Line.yint,BS_Line.xmean,BS_Line.xmax))\n",
    "print('RMS = %f'%(BS_Line.rms))"
   ]
  }
 ],
 "metadata": {
  "kernelspec": {
   "display_name": "Python 3",
   "language": "python",
   "name": "python3"
  },
  "language_info": {
   "codemirror_mode": {
    "name": "ipython",
    "version": 3
   },
   "file_extension": ".py",
   "mimetype": "text/x-python",
   "name": "python",
   "nbconvert_exporter": "python",
   "pygments_lexer": "ipython3",
   "version": "3.7.4"
  }
 },
 "nbformat": 4,
 "nbformat_minor": 2
}
