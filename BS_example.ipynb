{
 "cells": [
  {
   "cell_type": "markdown",
   "metadata": {},
   "source": [
    "# BS Example\n",
    "\n",
    "A beam switch (BS) spectrum with SEQUOIA is obtained by switching between two pixels in the array.  Thus, we always have one of the two beams on the source and there is no time lost for observation of a reference.  This results in a square root of two improvement in noise.\n",
    "\n",
    "The BS approach is most appropriate for point sources where the small offset between pixels is sufficient to get a good \"OFF\" measurement.\n",
    "\n",
    "Usually, we track pixel 10 and switch the telescope to pixel 8 for the reference observation.  This allows us to read data from only one of the roach boards to do the reduction of the spectrum. "
   ]
  },
  {
   "cell_type": "markdown",
   "metadata": {},
   "source": [
    "### Necessary Imports"
   ]
  },
  {
   "cell_type": "code",
   "execution_count": 1,
   "metadata": {},
   "outputs": [
    {
     "data": {
      "image/png": "[encoded data removed]",
      "text/plain": [
       "<Figure size 432x288 with 1 Axes>"
      ]
     },
     "metadata": {
      "needs_background": "light"
     },
     "output_type": "display_data"
    }
   ],
   "source": [
    "# Python Imports\n",
    "import os\n",
    "import numpy as np\n",
    "import matplotlib.pyplot as plt\n",
    "\n",
    "plt.plot([1,2,3]);"
   ]
  },
  {
   "cell_type": "code",
   "execution_count": 2,
   "metadata": {},
   "outputs": [
    {
     "name": "stdout",
     "output_type": "stream",
     "text": [
      "testing TKAgg\n",
      "Using: TkAgg\n"
     ]
    }
   ],
   "source": [
    "# Line Data Reduction Imports\n",
    "from lmtslr.spec.spec import *\n",
    "from lmtslr.ifproc.ifproc import *\n",
    "from lmtslr.viewer.spec_viewer import *\n",
    "\n",
    "from lmtslr.reduction.line_reduction import *\n",
    "from lmtslr.utils.reader import read_obsnum_bs"
   ]
  },
  {
   "cell_type": "markdown",
   "metadata": {},
   "source": [
    "### Setup parameters for the reduction"
   ]
  },
  {
   "cell_type": "code",
   "execution_count": 3,
   "metadata": {},
   "outputs": [
    {
     "name": "stdout",
     "output_type": "stream",
     "text": [
      "/home/teuben/LMT/lmtoy/data_lmt\n"
     ]
    }
   ],
   "source": [
    "# set all parameters to control the reduction and plot                                                                   \n",
    "# data_path = '/Users/schloerb/Desktop/LMT/DataReduction/NewDataReduction/pipeline/example_data/'\n",
    "data_path = os.environ['DATA_LMT']\n",
    "print(data_path)\n",
    "\n",
    "obsnum = 83057\n",
    "pixel_number = 10\n",
    "\n",
    "# calibration options\n",
    "use_calibration = True\n",
    "tsys = 100.\n",
    "\n",
    "# designate pixels for the BS reduction                                                                                  \n",
    "list_of_pixels = [8,10]\n",
    "list_of_pixels = [10,8]\n",
    "bank = 0\n",
    "\n",
    "# baseline options\n",
    "baseline_order = 0\n",
    "plot_limits = [20,60,-10,300]\n",
    "baseline_regions = [[-100,20],[60,200]]\n",
    "line_integral_regions = [[25,55]]\n",
    "\n",
    "\n"
   ]
  },
  {
   "cell_type": "markdown",
   "metadata": {},
   "source": [
    "### Read and reduce the spectrum\n",
    "\n",
    "The `read_obsnum_bs` function follows the procedure of `read_obsnum_ps` used to produce PS spectra with the exception that the role of Main and Reference are reversed for the first pixel in the pixel list.  "
   ]
  },
  {
   "cell_type": "code",
   "execution_count": 4,
   "metadata": {},
   "outputs": [
    {
     "name": "stdout",
     "output_type": "stream",
     "text": [
      "2019-04-26T00:53:38 obs-start /home/teuben/LMT/lmtoy/data_lmt/ifproc/ifproc_2019-04-26_083057_00_0001.nc\n",
      "2019-04-26T00:54:10 obs-stop  /home/teuben/LMT/lmtoy/data_lmt/ifproc/ifproc_2019-04-26_083057_00_0001.nc\n",
      "delta1   32.0 sec\n",
      "BufPos   0     9.4 sec 83057\n",
      "BufPos   1     7.9 sec 83057\n",
      "BufPos   0     9.6 sec 83057\n",
      "BufPos   1     5.1 sec 83057\n",
      "delta2   32.0 sec\n",
      "Old data, assuming Header.SpecBackend.DumpTime = 0.1\n",
      "before read npix\n",
      "from pixels npix = 16\n",
      "from xlen npix = 16\n",
      "TRACKING Sequoia PIXEL  8\n",
      "'Header.Map.HPBW'\n",
      "/home/teuben/LMT/lmtoy/data_lmt/ifproc/ifproc_2019-04-26_083057_00_0001.nc does not have map parameters\n",
      "PJT: line_rest_freq  [86.243442 85.640456]\n",
      "83057 is a Bs observation\n",
      "get chop\n",
      "'Data.Msip1mm.BeamChopperActPos'\n",
      " no chop\n",
      "2019-04-26T00:51:12 obs-start /home/teuben/LMT/lmtoy/data_lmt/ifproc/ifproc_2019-04-26_083053_00_0001.nc\n",
      "2019-04-26T00:51:18 obs-stop  /home/teuben/LMT/lmtoy/data_lmt/ifproc/ifproc_2019-04-26_083053_00_0001.nc\n",
      "delta1    6.8 sec\n",
      "BufPos   3     4.2 sec 83053\n",
      "BufPos   2     2.6 sec 83053\n",
      "delta2    6.8 sec\n",
      "Old data, assuming Header.SpecBackend.DumpTime = 0.1\n",
      "before read npix\n",
      "from pixels npix = 16\n",
      "from xlen npix = 16\n",
      "TRACKING Sequoia PIXEL  10\n",
      "'Header.Map.HPBW'\n",
      "/home/teuben/LMT/lmtoy/data_lmt/ifproc/ifproc_2019-04-26_083053_00_0001.nc does not have map parameters\n",
      "/home/teuben/LMT/lmtoy/data_lmt/ifproc/ifproc_2019-04-26_083053_00_0001.nc does not have bs parameters\n",
      "PJT: line_rest_freq  [86.243442 85.640456]\n",
      "83053 is a Cal observation\n",
      "get chop cal\n",
      "'Data.Msip1mm.BeamChopperActPos'\n",
      " no chop cal\n",
      "deltaR   32.2\n",
      "deltaS   89.5\n",
      "deltaI   17.6\n",
      "read_roach /home/teuben/LMT/lmtoy/data_lmt/spectrometer/roach2/roach2_83057_0_1_W-Hya_2019-04-26_045336.nc     nspec,nchan=896,2048\n",
      "r:2 inp:0 pix:8 time_offset:-0.030000\n",
      "r:2 inp:2 pix:10 time_offset:-0.030000\n",
      "PJT frequency_offset, restfreq  0.0 -1\n",
      "dict_pix {8: 0, 10: 1}\n",
      "deltaR    7.2\n",
      "deltaS   24.0\n",
      "deltaI    4.6\n",
      "read_roach /home/teuben/LMT/lmtoy/data_lmt/spectrometer/roach2/roach2_83053_0_1_W-Hya_2019-04-26_045111.nc     nspec,nchan=240,2048\n",
      "r:2 inp:0 pix:8 time_offset:-0.030000\n",
      "r:2 inp:2 pix:10 time_offset:-0.030000\n",
      "PJT frequency_offset, restfreq  0.0 -1\n",
      "SPEC TSYS[8] = 103.641 +/- 3.09633 (2048 channels)\n",
      "SPEC TSYS[10] = 105.932 +/- 1.98166 (2048 channels)\n",
      "Counting blocks 2\n",
      "Counting blocks 2\n",
      "Warning: now saving Tsys spectrum\n"
     ]
    },
    {
     "name": "stderr",
     "output_type": "stream",
     "text": [
      "Traceback (most recent call last):\n",
      "  File \"/home/teuben/LMT/lmtoy/SpectralLineReduction/lmtslr/ifproc/ifproc.py\", line 594, in __init__\n",
      "    self.chop = self.nc.variables['Data.Msip1mm.BeamChopperActPos'][:]\n",
      "KeyError: 'Data.Msip1mm.BeamChopperActPos'\n",
      "Traceback (most recent call last):\n",
      "  File \"/home/teuben/LMT/lmtoy/SpectralLineReduction/lmtslr/ifproc/ifproc.py\", line 756, in __init__\n",
      "    self.chop = self.nc.variables['Data.Msip1mm.BeamChopperActPos'][:]\n",
      "KeyError: 'Data.Msip1mm.BeamChopperActPos'\n",
      "/home/teuben/LMT/lmtoy/anaconda3/lib/python3.8/site-packages/numpy/core/fromnumeric.py:753: UserWarning: Warning: 'partition' will ignore the 'mask' of the MaskedArray.\n",
      "  a.partition(kth, axis=axis, kind=kind, order=order)\n",
      "/home/teuben/LMT/lmtoy/SpectralLineReduction/lmtslr/spec/spec.py:581: RuntimeWarning: divide by zero encountered in true_divide\n",
      "  self.tsys_spectrum = 280 * sky_spectrum / (hot_spectrum -\n",
      "/home/teuben/LMT/lmtoy/SpectralLineReduction/lmtslr/spec/spec.py:311: RuntimeWarning: invalid value encountered in true_divide\n",
      "  ps_list[i,:] = (self.main_spectra[i,:] -\n",
      "/home/teuben/LMT/lmtoy/SpectralLineReduction/lmtslr/spec/spec.py:316: RuntimeWarning: invalid value encountered in true_divide\n",
      "  ps_list[i,:] = (self.reference_spectra[i,:] -\n"
     ]
    }
   ],
   "source": [
    "I, S = read_obsnum_bs(obsnum, list_of_pixels, bank, use_calibration, tsys=tsys, path=data_path)"
   ]
  },
  {
   "cell_type": "markdown",
   "metadata": {},
   "source": [
    "### Create LineData objects for analysis\n",
    "\n",
    "The following code block creates individual `LineData` objects for the spectra on the Main position (pixel 10) and the Reference position (pixel 8).  The individual spectra are plotted."
   ]
  },
  {
   "cell_type": "code",
   "execution_count": 5,
   "metadata": {},
   "outputs": [
    {
     "data": {
      "image/png": "[encoded data removed]",
      "text/plain": [
       "<Figure size 432x288 with 1 Axes>"
      ]
     },
     "metadata": {
      "needs_background": "light"
     },
     "output_type": "display_data"
    },
    {
     "data": {
      "image/png": "[encoded data removed]",
      "text/plain": [
       "<Figure size 432x288 with 1 Axes>"
      ]
     },
     "metadata": {
      "needs_background": "light"
     },
     "output_type": "display_data"
    }
   ],
   "source": [
    "LD_0 = LineData(I,bank,S.nchan,S.bandwidth,S.roach[0].ps_spectrum)\n",
    "LD_1 = LineData(I,bank,S.nchan,S.bandwidth,S.roach[1].ps_spectrum)\n",
    "\n",
    "# select \"V Source\" option since this is a comet spectrum\n",
    "LD_0.x_vlsr()\n",
    "LD_1.x_vlsr()\n",
    "\n",
    "# make a plot of the two spectra\n",
    "plt.figure()\n",
    "plt.plot(LD_0.xarray,LD_0.yarray)\n",
    "plt.axis(plot_limits)\n",
    "plt.xlabel(LD_0.xname)\n",
    "plt.title('%s: Pixel %d Spectrum'%(I.source,list_of_pixels[0]));\n",
    "\n",
    "plt.figure()\n",
    "plt.plot(LD_1.xarray,LD_1.yarray)\n",
    "plt.axis(plot_limits)\n",
    "plt.xlabel(LD_1.xname)\n",
    "plt.title('%s Pixel %d Spectrum'%(I.source,list_of_pixels[1]));\n",
    "\n",
    "\n",
    "\n"
   ]
  },
  {
   "cell_type": "markdown",
   "metadata": {},
   "source": [
    "### Forming the BS Spectrum\n",
    "\n",
    "We can also combine the individual spectra from the reduction to derive the BS result.  We create a single `LineData` object with the result. "
   ]
  },
  {
   "cell_type": "code",
   "execution_count": 6,
   "metadata": {},
   "outputs": [
    {
     "data": {
      "image/png": "[encoded data removed]",
      "text/plain": [
       "<Figure size 432x288 with 1 Axes>"
      ]
     },
     "metadata": {
      "needs_background": "light"
     },
     "output_type": "display_data"
    }
   ],
   "source": [
    "# create a LineData object with the BS spectrum\n",
    "BS_LineData = LineData(I,bank,S.nchan,S.bandwidth,(S.roach[0].ps_spectrum + S.roach[1].ps_spectrum)/2.)\n",
    "\n",
    "# plot the combined result\n",
    "plt.plot(BS_LineData.xarray,BS_LineData.yarray)\n",
    "plt.axis(plot_limits)\n",
    "plt.xlabel(BS_LineData.xname)\n",
    "plt.title('%s: BS Spectrum with Pixels %d and %d'%(I.source,list_of_pixels[0],list_of_pixels[1]));\n",
    "\n",
    "\n",
    "\n"
   ]
  },
  {
   "cell_type": "code",
   "execution_count": 7,
   "metadata": {},
   "outputs": [
    {
     "name": "stdout",
     "output_type": "stream",
     "text": [
      "[-1348.76862711 -1347.41076817 -1346.05290923 ...  1428.05290923\n",
      "  1429.41076817  1430.76862711] [-47.76153763  -0.44918427  -0.48888096 ...          nan          nan\n",
      "          nan]\n"
     ]
    }
   ],
   "source": [
    "print(BS_LineData.xarray,BS_LineData.yarray)"
   ]
  },
  {
   "cell_type": "code",
   "execution_count": 8,
   "metadata": {},
   "outputs": [
    {
     "name": "stdout",
     "output_type": "stream",
     "text": [
      "Results for W-Hya 83057\n",
      "YMAX = 272.341246  YINT = 1157.713436  XMEAN = 39.243299  XMAX = [40.32107053]\n",
      "RMS = 0.058172\n"
     ]
    }
   ],
   "source": [
    "# create Line obeject to use spectral line methods\n",
    "BS_Line = BS_LineData.line()\n",
    "\n",
    "# fit baseline\n",
    "blist, nb = BS_Line.xlist(baseline_regions)\n",
    "BS_Line.baseline(blist,nb,baseline_order)\n",
    "\n",
    "# compute \"line\" parameters\n",
    "llist, nl = BS_Line.xlist(line_integral_regions)\n",
    "BS_Line.line_stats(llist,nl)\n",
    "\n",
    "# print the results\n",
    "print('Results for %s %d'%(I.source,I.obsnum))\n",
    "print('YMAX = %f  YINT = %f  XMEAN = %f  XMAX = %s'%(BS_Line.ymax,BS_Line.yint,BS_Line.xmean,BS_Line.xmax))\n",
    "print('RMS = %f'%(BS_Line.rms))"
   ]
  }
 ],
 "metadata": {
  "kernelspec": {
   "display_name": "Python 3",
   "language": "python",
   "name": "python3"
  },
  "language_info": {
   "codemirror_mode": {
    "name": "ipython",
    "version": 3
   },
   "file_extension": ".py",
   "mimetype": "text/x-python",
   "name": "python",
   "nbconvert_exporter": "python",
   "pygments_lexer": "ipython3",
   "version": "3.8.8"
  }
 },
 "nbformat": 4,
 "nbformat_minor": 2
}
